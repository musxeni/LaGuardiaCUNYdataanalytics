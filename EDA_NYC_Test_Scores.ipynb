{
 "cells": [
  {
   "cell_type": "code",
   "execution_count": 72,
   "metadata": {},
   "outputs": [],
   "source": [
    "import pandas as pd\n",
    "import matplotlib.pyplot as plt\n",
    "import numpy as np\n",
    "from scipy import stats\n",
    "url = 'https://raw.githubusercontent.com/CunyLaguardiaDataAnalytics/datasets/master/2014-15_To_2016-17_School-_Level_NYC_Regents_Report_For_All_Variables.csv'"
   ]
  },
  {
   "cell_type": "code",
   "execution_count": null,
   "metadata": {},
   "outputs": [],
   "source": [
    "#Run the dataframe\n",
    "df = pd.read_csv(url)\n",
    "df"
   ]
  },
  {
   "cell_type": "code",
   "execution_count": null,
   "metadata": {},
   "outputs": [],
   "source": [
    "#Notice several missing values. Drop all missing vlaues. Run new DF\n",
    "missing_values = ['s','na']\n",
    "df_convert2_Nan = pd.read_csv(url,na_values=missing_values)\n",
    "## DF containig NaN values\n",
    "df_convert2_Nan"
   ]
  },
  {
   "cell_type": "code",
   "execution_count": null,
   "metadata": {},
   "outputs": [],
   "source": [
    "#Gather Summary statistics of NaN Dataframe \n",
    "df_convert2_Nan.describe()"
   ]
  },
  {
   "cell_type": "code",
   "execution_count": null,
   "metadata": {},
   "outputs": [],
   "source": [
    "df_convert2_Nan.corr()"
   ]
  },
  {
   "cell_type": "code",
   "execution_count": null,
   "metadata": {},
   "outputs": [],
   "source": [
    "#Look up columns diffrent data types to make sure they all make sense\n",
    "df_convert2_Nan.dtypes"
   ]
  },
  {
   "cell_type": "code",
   "execution_count": null,
   "metadata": {},
   "outputs": [],
   "source": [
    "#Create Copy of the data and drop NaN\n",
    "workingdf = df_convert2_Nan.copy()\n",
    "workingdf.dropna(inplace=True)\n",
    "workingdf\n"
   ]
  },
  {
   "cell_type": "code",
   "execution_count": null,
   "metadata": {},
   "outputs": [],
   "source": [
    "# Dataframe of a list of schools\n",
    "listofschools = pd.DataFrame(workingdf['School Name'].unique())\n",
    "listofschools "
   ]
  },
  {
   "cell_type": "code",
   "execution_count": null,
   "metadata": {},
   "outputs": [],
   "source": [
    "#Create a filter to view the list of schools with charter in their name\n",
    "df_charter_schools = workingdf[workingdf['School Name'].str.contains('Charter')]\n",
    "df_charter_schools"
   ]
  },
  {
   "cell_type": "code",
   "execution_count": 98,
   "metadata": {},
   "outputs": [
    {
     "data": {
      "text/html": [
       "<div>\n",
       "<style scoped>\n",
       "    .dataframe tbody tr th:only-of-type {\n",
       "        vertical-align: middle;\n",
       "    }\n",
       "\n",
       "    .dataframe tbody tr th {\n",
       "        vertical-align: top;\n",
       "    }\n",
       "\n",
       "    .dataframe thead th {\n",
       "        text-align: right;\n",
       "    }\n",
       "</style>\n",
       "<table border=\"1\" class=\"dataframe\">\n",
       "  <thead>\n",
       "    <tr style=\"text-align: right;\">\n",
       "      <th></th>\n",
       "      <th>Year</th>\n",
       "      <th>Total Tested</th>\n",
       "      <th>Mean Score</th>\n",
       "      <th>Number Scoring Below 65</th>\n",
       "      <th>Percent Scoring Below 65</th>\n",
       "      <th>Number Scoring 65 or Above</th>\n",
       "      <th>Percent Scoring 65 or Above</th>\n",
       "      <th>Number Scoring 80 or Above</th>\n",
       "      <th>Percent Scoring 80 or Above</th>\n",
       "      <th>Number Scoring CR</th>\n",
       "      <th>Percent Scoring CR</th>\n",
       "    </tr>\n",
       "  </thead>\n",
       "  <tbody>\n",
       "    <tr>\n",
       "      <th>count</th>\n",
       "      <td>5772.000000</td>\n",
       "      <td>5772.000000</td>\n",
       "      <td>5772.000000</td>\n",
       "      <td>5772.000000</td>\n",
       "      <td>5772.000000</td>\n",
       "      <td>5772.000000</td>\n",
       "      <td>5772.000000</td>\n",
       "      <td>5772.000000</td>\n",
       "      <td>5772.000000</td>\n",
       "      <td>5772.000000</td>\n",
       "      <td>5772.000000</td>\n",
       "    </tr>\n",
       "    <tr>\n",
       "      <th>mean</th>\n",
       "      <td>2015.953915</td>\n",
       "      <td>44.601871</td>\n",
       "      <td>65.921102</td>\n",
       "      <td>16.701836</td>\n",
       "      <td>39.702339</td>\n",
       "      <td>27.900035</td>\n",
       "      <td>60.299411</td>\n",
       "      <td>8.835239</td>\n",
       "      <td>19.222453</td>\n",
       "      <td>18.375433</td>\n",
       "      <td>39.225589</td>\n",
       "    </tr>\n",
       "    <tr>\n",
       "      <th>std</th>\n",
       "      <td>0.808221</td>\n",
       "      <td>40.543050</td>\n",
       "      <td>10.274121</td>\n",
       "      <td>21.373176</td>\n",
       "      <td>29.679782</td>\n",
       "      <td>29.761983</td>\n",
       "      <td>29.680014</td>\n",
       "      <td>13.946430</td>\n",
       "      <td>22.853029</td>\n",
       "      <td>22.732285</td>\n",
       "      <td>30.528991</td>\n",
       "    </tr>\n",
       "    <tr>\n",
       "      <th>min</th>\n",
       "      <td>2015.000000</td>\n",
       "      <td>6.000000</td>\n",
       "      <td>24.300000</td>\n",
       "      <td>0.000000</td>\n",
       "      <td>0.000000</td>\n",
       "      <td>0.000000</td>\n",
       "      <td>0.000000</td>\n",
       "      <td>0.000000</td>\n",
       "      <td>0.000000</td>\n",
       "      <td>0.000000</td>\n",
       "      <td>0.000000</td>\n",
       "    </tr>\n",
       "    <tr>\n",
       "      <th>25%</th>\n",
       "      <td>2015.000000</td>\n",
       "      <td>16.000000</td>\n",
       "      <td>58.500000</td>\n",
       "      <td>4.000000</td>\n",
       "      <td>14.300000</td>\n",
       "      <td>7.000000</td>\n",
       "      <td>35.700000</td>\n",
       "      <td>0.000000</td>\n",
       "      <td>0.000000</td>\n",
       "      <td>3.000000</td>\n",
       "      <td>11.100000</td>\n",
       "    </tr>\n",
       "    <tr>\n",
       "      <th>50%</th>\n",
       "      <td>2016.000000</td>\n",
       "      <td>33.000000</td>\n",
       "      <td>66.800000</td>\n",
       "      <td>9.000000</td>\n",
       "      <td>33.300000</td>\n",
       "      <td>17.000000</td>\n",
       "      <td>66.700000</td>\n",
       "      <td>3.000000</td>\n",
       "      <td>9.400000</td>\n",
       "      <td>9.000000</td>\n",
       "      <td>35.000000</td>\n",
       "    </tr>\n",
       "    <tr>\n",
       "      <th>75%</th>\n",
       "      <td>2017.000000</td>\n",
       "      <td>61.000000</td>\n",
       "      <td>73.700000</td>\n",
       "      <td>21.000000</td>\n",
       "      <td>64.300000</td>\n",
       "      <td>40.000000</td>\n",
       "      <td>85.700000</td>\n",
       "      <td>11.000000</td>\n",
       "      <td>31.800000</td>\n",
       "      <td>26.000000</td>\n",
       "      <td>65.300000</td>\n",
       "    </tr>\n",
       "    <tr>\n",
       "      <th>max</th>\n",
       "      <td>2017.000000</td>\n",
       "      <td>441.000000</td>\n",
       "      <td>93.000000</td>\n",
       "      <td>249.000000</td>\n",
       "      <td>100.000000</td>\n",
       "      <td>289.000000</td>\n",
       "      <td>100.000000</td>\n",
       "      <td>133.000000</td>\n",
       "      <td>100.000000</td>\n",
       "      <td>256.000000</td>\n",
       "      <td>100.000000</td>\n",
       "    </tr>\n",
       "  </tbody>\n",
       "</table>\n",
       "</div>"
      ],
      "text/plain": [
       "              Year  Total Tested   Mean Score  Number Scoring Below 65  \\\n",
       "count  5772.000000   5772.000000  5772.000000              5772.000000   \n",
       "mean   2015.953915     44.601871    65.921102                16.701836   \n",
       "std       0.808221     40.543050    10.274121                21.373176   \n",
       "min    2015.000000      6.000000    24.300000                 0.000000   \n",
       "25%    2015.000000     16.000000    58.500000                 4.000000   \n",
       "50%    2016.000000     33.000000    66.800000                 9.000000   \n",
       "75%    2017.000000     61.000000    73.700000                21.000000   \n",
       "max    2017.000000    441.000000    93.000000               249.000000   \n",
       "\n",
       "       Percent Scoring Below 65  Number Scoring 65 or Above  \\\n",
       "count               5772.000000                 5772.000000   \n",
       "mean                  39.702339                   27.900035   \n",
       "std                   29.679782                   29.761983   \n",
       "min                    0.000000                    0.000000   \n",
       "25%                   14.300000                    7.000000   \n",
       "50%                   33.300000                   17.000000   \n",
       "75%                   64.300000                   40.000000   \n",
       "max                  100.000000                  289.000000   \n",
       "\n",
       "       Percent Scoring 65 or Above  Number Scoring 80 or Above  \\\n",
       "count                  5772.000000                 5772.000000   \n",
       "mean                     60.299411                    8.835239   \n",
       "std                      29.680014                   13.946430   \n",
       "min                       0.000000                    0.000000   \n",
       "25%                      35.700000                    0.000000   \n",
       "50%                      66.700000                    3.000000   \n",
       "75%                      85.700000                   11.000000   \n",
       "max                     100.000000                  133.000000   \n",
       "\n",
       "       Percent Scoring 80 or Above  Number Scoring CR  Percent Scoring CR  \n",
       "count                  5772.000000        5772.000000         5772.000000  \n",
       "mean                     19.222453          18.375433           39.225589  \n",
       "std                      22.853029          22.732285           30.528991  \n",
       "min                       0.000000           0.000000            0.000000  \n",
       "25%                       0.000000           3.000000           11.100000  \n",
       "50%                       9.400000           9.000000           35.000000  \n",
       "75%                      31.800000          26.000000           65.300000  \n",
       "max                     100.000000         256.000000          100.000000  "
      ]
     },
     "execution_count": 98,
     "metadata": {},
     "output_type": "execute_result"
    }
   ],
   "source": [
    "#View Summary statistics of charter schools\n",
    "df_charter_schools.describe()"
   ]
  },
  {
   "cell_type": "code",
   "execution_count": null,
   "metadata": {},
   "outputs": [],
   "source": [
    "#Create filter of schools that do not have charter in their name\n",
    "df_regular_schools = workingdf[~workingdf['School Name'].str.contains('Charter')]\n",
    "df_regular_schools"
   ]
  },
  {
   "cell_type": "code",
   "execution_count": 97,
   "metadata": {},
   "outputs": [
    {
     "data": {
      "text/html": [
       "<div>\n",
       "<style scoped>\n",
       "    .dataframe tbody tr th:only-of-type {\n",
       "        vertical-align: middle;\n",
       "    }\n",
       "\n",
       "    .dataframe tbody tr th {\n",
       "        vertical-align: top;\n",
       "    }\n",
       "\n",
       "    .dataframe thead th {\n",
       "        text-align: right;\n",
       "    }\n",
       "</style>\n",
       "<table border=\"1\" class=\"dataframe\">\n",
       "  <thead>\n",
       "    <tr style=\"text-align: right;\">\n",
       "      <th></th>\n",
       "      <th>Year</th>\n",
       "      <th>Total Tested</th>\n",
       "      <th>Mean Score</th>\n",
       "      <th>Number Scoring Below 65</th>\n",
       "      <th>Percent Scoring Below 65</th>\n",
       "      <th>Number Scoring 65 or Above</th>\n",
       "      <th>Percent Scoring 65 or Above</th>\n",
       "      <th>Number Scoring 80 or Above</th>\n",
       "      <th>Percent Scoring 80 or Above</th>\n",
       "      <th>Number Scoring CR</th>\n",
       "      <th>Percent Scoring CR</th>\n",
       "    </tr>\n",
       "  </thead>\n",
       "  <tbody>\n",
       "    <tr>\n",
       "      <th>count</th>\n",
       "      <td>63871.000000</td>\n",
       "      <td>63871.000000</td>\n",
       "      <td>63871.000000</td>\n",
       "      <td>63871.000000</td>\n",
       "      <td>63871.000000</td>\n",
       "      <td>63871.000000</td>\n",
       "      <td>63871.000000</td>\n",
       "      <td>63871.000000</td>\n",
       "      <td>63871.000000</td>\n",
       "      <td>63871.000000</td>\n",
       "      <td>63871.000000</td>\n",
       "    </tr>\n",
       "    <tr>\n",
       "      <th>mean</th>\n",
       "      <td>2015.894303</td>\n",
       "      <td>70.649465</td>\n",
       "      <td>64.941211</td>\n",
       "      <td>25.315511</td>\n",
       "      <td>43.499875</td>\n",
       "      <td>45.333954</td>\n",
       "      <td>56.501638</td>\n",
       "      <td>18.418155</td>\n",
       "      <td>20.223713</td>\n",
       "      <td>31.009926</td>\n",
       "      <td>35.946085</td>\n",
       "    </tr>\n",
       "    <tr>\n",
       "      <th>std</th>\n",
       "      <td>0.797478</td>\n",
       "      <td>109.168490</td>\n",
       "      <td>11.384103</td>\n",
       "      <td>38.721963</td>\n",
       "      <td>29.475076</td>\n",
       "      <td>85.975271</td>\n",
       "      <td>29.474823</td>\n",
       "      <td>54.467628</td>\n",
       "      <td>25.951694</td>\n",
       "      <td>70.908558</td>\n",
       "      <td>31.128263</td>\n",
       "    </tr>\n",
       "    <tr>\n",
       "      <th>min</th>\n",
       "      <td>2015.000000</td>\n",
       "      <td>6.000000</td>\n",
       "      <td>15.000000</td>\n",
       "      <td>0.000000</td>\n",
       "      <td>0.000000</td>\n",
       "      <td>0.000000</td>\n",
       "      <td>0.000000</td>\n",
       "      <td>0.000000</td>\n",
       "      <td>0.000000</td>\n",
       "      <td>0.000000</td>\n",
       "      <td>0.000000</td>\n",
       "    </tr>\n",
       "    <tr>\n",
       "      <th>25%</th>\n",
       "      <td>2015.000000</td>\n",
       "      <td>16.000000</td>\n",
       "      <td>57.300000</td>\n",
       "      <td>5.000000</td>\n",
       "      <td>18.200000</td>\n",
       "      <td>7.000000</td>\n",
       "      <td>33.300000</td>\n",
       "      <td>0.000000</td>\n",
       "      <td>0.000000</td>\n",
       "      <td>2.000000</td>\n",
       "      <td>8.600000</td>\n",
       "    </tr>\n",
       "    <tr>\n",
       "      <th>50%</th>\n",
       "      <td>2016.000000</td>\n",
       "      <td>37.000000</td>\n",
       "      <td>64.500000</td>\n",
       "      <td>13.000000</td>\n",
       "      <td>41.700000</td>\n",
       "      <td>19.000000</td>\n",
       "      <td>58.300000</td>\n",
       "      <td>3.000000</td>\n",
       "      <td>9.100000</td>\n",
       "      <td>9.000000</td>\n",
       "      <td>28.600000</td>\n",
       "    </tr>\n",
       "    <tr>\n",
       "      <th>75%</th>\n",
       "      <td>2017.000000</td>\n",
       "      <td>81.000000</td>\n",
       "      <td>72.300000</td>\n",
       "      <td>30.000000</td>\n",
       "      <td>66.700000</td>\n",
       "      <td>50.000000</td>\n",
       "      <td>81.800000</td>\n",
       "      <td>15.000000</td>\n",
       "      <td>30.200000</td>\n",
       "      <td>31.000000</td>\n",
       "      <td>58.100000</td>\n",
       "    </tr>\n",
       "    <tr>\n",
       "      <th>max</th>\n",
       "      <td>2017.000000</td>\n",
       "      <td>1554.000000</td>\n",
       "      <td>98.300000</td>\n",
       "      <td>697.000000</td>\n",
       "      <td>100.000000</td>\n",
       "      <td>1497.000000</td>\n",
       "      <td>100.000000</td>\n",
       "      <td>1318.000000</td>\n",
       "      <td>100.000000</td>\n",
       "      <td>1465.000000</td>\n",
       "      <td>100.000000</td>\n",
       "    </tr>\n",
       "  </tbody>\n",
       "</table>\n",
       "</div>"
      ],
      "text/plain": [
       "               Year  Total Tested    Mean Score  Number Scoring Below 65  \\\n",
       "count  63871.000000  63871.000000  63871.000000             63871.000000   \n",
       "mean    2015.894303     70.649465     64.941211                25.315511   \n",
       "std        0.797478    109.168490     11.384103                38.721963   \n",
       "min     2015.000000      6.000000     15.000000                 0.000000   \n",
       "25%     2015.000000     16.000000     57.300000                 5.000000   \n",
       "50%     2016.000000     37.000000     64.500000                13.000000   \n",
       "75%     2017.000000     81.000000     72.300000                30.000000   \n",
       "max     2017.000000   1554.000000     98.300000               697.000000   \n",
       "\n",
       "       Percent Scoring Below 65  Number Scoring 65 or Above  \\\n",
       "count              63871.000000                63871.000000   \n",
       "mean                  43.499875                   45.333954   \n",
       "std                   29.475076                   85.975271   \n",
       "min                    0.000000                    0.000000   \n",
       "25%                   18.200000                    7.000000   \n",
       "50%                   41.700000                   19.000000   \n",
       "75%                   66.700000                   50.000000   \n",
       "max                  100.000000                 1497.000000   \n",
       "\n",
       "       Percent Scoring 65 or Above  Number Scoring 80 or Above  \\\n",
       "count                 63871.000000                63871.000000   \n",
       "mean                     56.501638                   18.418155   \n",
       "std                      29.474823                   54.467628   \n",
       "min                       0.000000                    0.000000   \n",
       "25%                      33.300000                    0.000000   \n",
       "50%                      58.300000                    3.000000   \n",
       "75%                      81.800000                   15.000000   \n",
       "max                     100.000000                 1318.000000   \n",
       "\n",
       "       Percent Scoring 80 or Above  Number Scoring CR  Percent Scoring CR  \n",
       "count                 63871.000000       63871.000000        63871.000000  \n",
       "mean                     20.223713          31.009926           35.946085  \n",
       "std                      25.951694          70.908558           31.128263  \n",
       "min                       0.000000           0.000000            0.000000  \n",
       "25%                       0.000000           2.000000            8.600000  \n",
       "50%                       9.100000           9.000000           28.600000  \n",
       "75%                      30.200000          31.000000           58.100000  \n",
       "max                     100.000000        1465.000000          100.000000  "
      ]
     },
     "execution_count": 97,
     "metadata": {},
     "output_type": "execute_result"
    }
   ],
   "source": [
    "df_regular_schools.describe()"
   ]
  },
  {
   "cell_type": "code",
   "execution_count": null,
   "metadata": {},
   "outputs": [],
   "source": [
    "#View Number of Regents Exam \n",
    "workingdf['Regents Exam'].unique()"
   ]
  },
  {
   "cell_type": "code",
   "execution_count": null,
   "metadata": {},
   "outputs": [],
   "source": [
    "workingdf.groupby(['Regents Exam','School Name'])['Year'].value_counts()"
   ]
  },
  {
   "cell_type": "code",
   "execution_count": 14,
   "metadata": {},
   "outputs": [
    {
     "data": {
      "text/plain": [
       "array([2015, 2016, 2017], dtype=int64)"
      ]
     },
     "execution_count": 14,
     "metadata": {},
     "output_type": "execute_result"
    }
   ],
   "source": [
    "#List of School years \n",
    "workingdf['Year'].unique()"
   ]
  },
  {
   "cell_type": "code",
   "execution_count": 100,
   "metadata": {},
   "outputs": [
    {
     "data": {
      "text/plain": [
       "array(['K-8', 'High school', 'Junior High-Intermediate-Middle',\n",
       "       'Secondary School', 'K-12 all grades'], dtype=object)"
      ]
     },
     "execution_count": 100,
     "metadata": {},
     "output_type": "execute_result"
    }
   ],
   "source": [
    "#List of school levels  \n",
    "workingdf['School Level'].unique()"
   ]
  },
  {
   "cell_type": "code",
   "execution_count": null,
   "metadata": {},
   "outputs": [],
   "source": [
    "workingdf.columns"
   ]
  },
  {
   "cell_type": "code",
   "execution_count": null,
   "metadata": {},
   "outputs": [],
   "source": [
    "Bronx_regular_schools_df = df_regular_schools[df_regular_schools['School DBN'].str.contains('X')]\n",
    "Bronx_regular_schools_df"
   ]
  },
  {
   "cell_type": "code",
   "execution_count": 78,
   "metadata": {},
   "outputs": [
    {
     "data": {
      "text/plain": [
       "Common Core Algebra      19549\n",
       "Common Core English      13319\n",
       "Common Core Geometry      9546\n",
       "English                   6784\n",
       "Integrated Algebra        6308\n",
       "Algebra2/Trigonometry     5432\n",
       "Common Core Algebra2      4358\n",
       "Geometry                  4347\n",
       "Name: Regents Exam, dtype: int64"
      ]
     },
     "execution_count": 78,
     "metadata": {},
     "output_type": "execute_result"
    }
   ],
   "source": [
    "workingdf['Regents Exam'].value_counts()"
   ]
  },
  {
   "cell_type": "code",
   "execution_count": 37,
   "metadata": {},
   "outputs": [
    {
     "data": {
      "text/plain": [
       "64.94121119130529"
      ]
     },
     "execution_count": 37,
     "metadata": {},
     "output_type": "execute_result"
    }
   ],
   "source": [
    "df_regular_schools['Mean Score'].mean()"
   ]
  },
  {
   "cell_type": "code",
   "execution_count": 21,
   "metadata": {},
   "outputs": [
    {
     "data": {
      "text/plain": [
       "65.92110187110181"
      ]
     },
     "execution_count": 21,
     "metadata": {},
     "output_type": "execute_result"
    }
   ],
   "source": [
    "df_charter_schools['Mean Score'].mean()"
   ]
  },
  {
   "cell_type": "code",
   "execution_count": 67,
   "metadata": {},
   "outputs": [
    {
     "data": {
      "image/png": "[encoded data removed]",
      "text/plain": [
       "<Figure size 432x288 with 1 Axes>"
      ]
     },
     "metadata": {
      "needs_background": "light"
     },
     "output_type": "display_data"
    }
   ],
   "source": [
    "fig, ax = plt.subplots()\n",
    "\n",
    "ax.bar('Charter School mean test score',df_charter_schools['Mean Score'].mean())\n",
    "ax.bar('Regular School mean test score',df_regular_schools['Mean Score'].mean())\n",
    "for container in ax.containers:\n",
    "    ax.bar_label(container)\n",
    "ax.set_ylabel('Scores')\n",
    "plt.show()"
   ]
  },
  {
   "cell_type": "markdown",
   "metadata": {},
   "source": [
    "This chart shows that when comparing the average test score across all years,grade levels, and regents exam types. Studets score about the same regardless of school type. Going to a charter school does increase the students mean regents grade, but only by .97%. "
   ]
  },
  {
   "cell_type": "code",
   "execution_count": null,
   "metadata": {},
   "outputs": [],
   "source": [
    "#Make DFs that filter the school locations by the boroughs \n",
    "brooklyn_regular_schools_df = df_regular_schools[df_regular_schools['School DBN'].str.contains('K')]\n",
    "queens_regular_schools_df = df_regular_schools[df_regular_schools['School DBN'].str.contains('Q')]\n",
    "bronx_regular_schools_df = df_regular_schools[df_regular_schools['School DBN'].str.contains('X')]\n",
    "manhattan_regular_schools_df = df_regular_schools[df_regular_schools['School DBN'].str.contains('M')]\n",
    "staten_island_regular_schools_df = df_regular_schools[df_regular_schools['School DBN'].str.contains('R')]\n",
    "queens_regular_schools_df\n"
   ]
  },
  {
   "cell_type": "code",
   "execution_count": null,
   "metadata": {},
   "outputs": [],
   "source": [
    "#Create Filters that look at regular schools in the bronx that are high schools and look only at the Common Core Algebra Regents Exam\n",
    "regular_bronx_hs_CommomCoreAlgebra = bronx_regular_schools_df[(bronx_regular_schools_df['Regents Exam'] == 'Common Core Algebra') & (bronx_regular_schools_df['School Level'] == 'High school')] \n",
    "regular_bronx_hs_CommomCoreAlgebra"
   ]
  },
  {
   "cell_type": "code",
   "execution_count": null,
   "metadata": {},
   "outputs": [],
   "source": [
    "#Create Filters that look at regular schools in quuens that are high schools and look only at the Common Core Algebra Regents Exam\n",
    "regular_queens_hs_CommomCoreAlgebra = queens_regular_schools_df[(queens_regular_schools_df['Regents Exam'] == 'Common Core Algebra') & (queens_regular_schools_df['School Level'] == 'High school')] \n",
    "regular_queens_hs_CommomCoreAlgebra"
   ]
  },
  {
   "cell_type": "code",
   "execution_count": 108,
   "metadata": {},
   "outputs": [
    {
     "data": {
      "image/png": "[encoded data removed]",
      "text/plain": [
       "<Figure size 432x288 with 1 Axes>"
      ]
     },
     "metadata": {
      "needs_background": "light"
     },
     "output_type": "display_data"
    },
    {
     "name": "stdout",
     "output_type": "stream",
     "text": [
      "4.843868848230969\n"
     ]
    }
   ],
   "source": [
    "fig, ax = plt.subplots()\n",
    "queens = regular_queens_hs_CommomCoreAlgebra['Mean Score'].mean()\n",
    "bronx = regular_bronx_hs_CommomCoreAlgebra['Mean Score'].mean()\n",
    "ax.bar('Queens',regular_queens_hs_CommomCoreAlgebra['Mean Score'].mean())\n",
    "ax.bar('Bronx',regular_bronx_hs_CommomCoreAlgebra['Mean Score'].mean())\n",
    "for container in ax.containers:\n",
    "    ax.bar_label(container)\n",
    "ax.set_ylabel('Scores')\n",
    "plt.show()\n",
    "print (queens - bronx)"
   ]
  },
  {
   "cell_type": "markdown",
   "metadata": {},
   "source": [
    "Two of the outer bouroghs queen and the bronx. These bouroghs along with SI are often treated with some disdain by City hall. This graph show the mean score when comparing the grades with a diffrence of about 4.8%."
   ]
  },
  {
   "cell_type": "code",
   "execution_count": 103,
   "metadata": {},
   "outputs": [
    {
     "name": "stdout",
     "output_type": "stream",
     "text": [
      "All other regular schools expect SI: (61719, 15)\n",
      "SI: (2152, 15)\n",
      "(63871, 15)\n"
     ]
    }
   ],
   "source": [
    "all_regular_schools_but_SI = df_regular_schools[~df_regular_schools['School DBN'].str.contains('R')]\n",
    "print ('All other regular schools expect SI:',all_regular_schools_but_SI.shape)\n",
    "print ('SI:',staten_island_regular_schools_df.shape)\n",
    "print (df_regular_schools.shape)\n",
    "\n"
   ]
  },
  {
   "cell_type": "code",
   "execution_count": 107,
   "metadata": {},
   "outputs": [
    {
     "data": {
      "image/png": "[encoded data removed]",
      "text/plain": [
       "<Figure size 432x288 with 1 Axes>"
      ]
     },
     "metadata": {
      "needs_background": "light"
     },
     "output_type": "display_data"
    },
    {
     "name": "stdout",
     "output_type": "stream",
     "text": [
      "2.6368513404487146\n"
     ]
    }
   ],
   "source": [
    "fig, ax = plt.subplots()\n",
    "all_others = all_regular_schools_but_SI['Mean Score'].mean()\n",
    "SI = staten_island_regular_schools_df['Mean Score'].mean()\n",
    "ax.bar('regular SI',staten_island_regular_schools_df['Mean Score'].mean())\n",
    "ax.bar('other regular schools',all_regular_schools_but_SI['Mean Score'].mean())\n",
    "for container in ax.containers:\n",
    "    ax.bar_label(container)\n",
    "ax.set_ylabel('Scores')\n",
    "plt.show()\n",
    "print (SI - all_others)"
   ]
  },
  {
   "cell_type": "markdown",
   "metadata": {},
   "source": [
    "This graph shows that there is a diffrence of about 2.6 percent when comapring the bourogh of SI to all other boroughs. As SI is the richest part of NYC, I would ahve thought the diffrence would have been a bit more. "
   ]
  }
 ],
 "metadata": {
  "interpreter": {
   "hash": "b3ba2566441a7c06988d0923437866b63cedc61552a5af99d1f4fb67d367b25f"
  },
  "kernelspec": {
   "display_name": "Python 3.8.8 64-bit ('base': conda)",
   "language": "python",
   "name": "python3"
  },
  "language_info": {
   "codemirror_mode": {
    "name": "ipython",
    "version": 3
   },
   "file_extension": ".py",
   "mimetype": "text/x-python",
   "name": "python",
   "nbconvert_exporter": "python",
   "pygments_lexer": "ipython3",
   "version": "3.8.8"
  },
  "orig_nbformat": 4
 },
 "nbformat": 4,
 "nbformat_minor": 2
}
